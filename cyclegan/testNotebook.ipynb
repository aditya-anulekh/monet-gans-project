{
 "cells": [
  {
   "cell_type": "code",
   "execution_count": 1,
   "metadata": {},
   "outputs": [],
   "source": [
    "import os\n",
    "import os.path as osp\n",
    "from tqdm import tqdm\n",
    "from PIL import Image\n",
    "import torch\n",
    "from torch.utils.data import Dataset, DataLoader\n",
    "from torchvision import transforms\n",
    "from torchvision.utils import save_image, make_grid\n",
    "from generator_model import Generator\n",
    "import config\n",
    "import matplotlib.pyplot as plt\n",
    "import numpy as np"
   ]
  },
  {
   "cell_type": "code",
   "execution_count": 2,
   "metadata": {},
   "outputs": [],
   "source": [
    "class PhotoMonetDataset(Dataset):\n",
    "    def __init__(self, root_photo, root_monet, transform=None):\n",
    "        self.root_photo = root_photo\n",
    "        self.root_monet = root_monet\n",
    "        self.transform = transform\n",
    "        self.monet_images = os.listdir(self.root_monet)\n",
    "        self.photo_images = os.listdir(self.root_photo)\n",
    "        self.num_monet = len(self.monet_images)\n",
    "        self.num_photo = len(self.photo_images)\n",
    "        self.len_dataset = max(self.num_monet, self.num_photo)\n",
    "\n",
    "    def __len__(self):\n",
    "        return self.len_dataset\n",
    "\n",
    "    def __getitem__(self, index):\n",
    "        monet_img = self.monet_images[index%self.num_monet]\n",
    "        photo_img = self.photo_images[index%self.num_photo]\n",
    "\n",
    "        monet_img = osp.join(self.root_monet, monet_img)\n",
    "        photo_img = osp.join(self.root_photo, photo_img)\n",
    "\n",
    "        monet_img = np.array(Image.open(monet_img).convert(\"RGB\"))\n",
    "        photo_img = np.array(Image.open(photo_img).convert(\"RGB\"))\n",
    "\n",
    "        if self.transform:\n",
    "            monet_img = self.transform(monet_img)\n",
    "            photo_img = self.transform(photo_img)\n",
    "\n",
    "        return monet_img, photo_img\n"
   ]
  },
  {
   "cell_type": "code",
   "execution_count": 5,
   "metadata": {},
   "outputs": [
    {
     "name": "stdout",
     "output_type": "stream",
     "text": [
      "751\n"
     ]
    }
   ],
   "source": [
    "transform = transforms.Compose([\n",
    "            transforms.ToTensor(),\n",
    "            transforms.Normalize([0.5 for _ in range(3)],\n",
    "                                [0.5 for _ in range(3)]),\n",
    "        ])\n",
    "\n",
    "test_dataset = PhotoMonetDataset(osp.join(\"../monet2photo\", \"testB\"), \n",
    "                            osp.join(\"../monet2photo\", \"testA\"),\n",
    "                            transform=transform)\n",
    "\n",
    "print(test_dataset.__len__())\n",
    "test_dataloader = DataLoader(test_dataset, 1, shuffle=False, num_workers=4)\n"
   ]
  },
  {
   "cell_type": "code",
   "execution_count": 13,
   "metadata": {},
   "outputs": [
    {
     "data": {
      "text/plain": [
       "<All keys matched successfully>"
      ]
     },
     "execution_count": 13,
     "metadata": {},
     "output_type": "execute_result"
    }
   ],
   "source": [
    "gen_m = Generator(in_channels=3)\n",
    "gen_m.load_state_dict(torch.load(\"checkpoints/1212210058/gen_m_11.pth\"))"
   ]
  },
  {
   "cell_type": "code",
   "execution_count": 14,
   "metadata": {},
   "outputs": [],
   "source": [
    "gen_m = gen_m.to(\"cuda\")\n",
    "\n",
    "for i, (_, photo_img) in enumerate(test_dataloader):\n",
    "    photo_img = photo_img.to(\"cuda\")\n",
    "    with torch.no_grad():\n",
    "        fake_monet = gen_m(photo_img)\n",
    "    fake_monet = fake_monet*0.5+0.5\n",
    "    grid = torch.cat((photo_img, fake_monet))\n",
    "    fake_monet = make_grid(grid)\n",
    "    # plt.imshow(fake_monet.cpu().permute(1,2,0))\n",
    "    # plt.show()\n",
    "    save_image(fake_monet, f\"testOutputs/image_{i}.png\")\n",
    "    if i>100:\n",
    "        break\n"
   ]
  },
  {
   "cell_type": "code",
   "execution_count": null,
   "metadata": {},
   "outputs": [],
   "source": []
  }
 ],
 "metadata": {
  "interpreter": {
   "hash": "3cc11cfca774b4f9f37812c496eb490cc886b58e109f4ef2ec596d541245616e"
  },
  "kernelspec": {
   "display_name": "Python 3.8.11 64-bit ('ee541': conda)",
   "language": "python",
   "name": "python3"
  },
  "language_info": {
   "codemirror_mode": {
    "name": "ipython",
    "version": 3
   },
   "file_extension": ".py",
   "mimetype": "text/x-python",
   "name": "python",
   "nbconvert_exporter": "python",
   "pygments_lexer": "ipython3",
   "version": "3.8.11"
  },
  "orig_nbformat": 4
 },
 "nbformat": 4,
 "nbformat_minor": 2
}
